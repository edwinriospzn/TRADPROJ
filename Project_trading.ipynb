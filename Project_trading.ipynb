{
 "cells": [
  {
   "cell_type": "code",
   "execution_count": null,
   "metadata": {},
   "outputs": [],
   "source": [
    "import yfinance as yf\n",
    "import pandas as pd"
   ]
  },
  {
   "cell_type": "code",
   "execution_count": null,
   "metadata": {},
   "outputs": [],
   "source": [
    "VIX_db = yf.download(\"^VIX\", start=Ini_date, end=End_date)\n",
    "print(VIX_db[:3])\n",
    "SP500Fut_db = yf.download(\"ES=F\", start=Ini_date, end=End_date)\n",
    "print(SP500Fut_db[:3])\n",
    "SP500_db = yf.download(\"^GSPC\", start=Ini_date, end=End_date)\n",
    "print(SP500_db[:3])"
   ]
  },
  {
   "cell_type": "code",
   "execution_count": null,
   "metadata": {},
   "outputs": [],
   "source": [
    "VIX_db=pd.DataFrame(VIX_db['Close'])\n",
    "SP500Fut_db=pd.DataFrame(SP500Fut_db['Close'])\n",
    "SP500_db=pd.DataFrame(SP500_db['Close'])"
   ]
  }
 ],
 "metadata": {
  "kernelspec": {
   "display_name": "Python 3.9.12 ('base')",
   "language": "python",
   "name": "python3"
  },
  "language_info": {
   "name": "python",
   "version": "3.9.12"
  },
  "orig_nbformat": 4,
  "vscode": {
   "interpreter": {
    "hash": "ad2bdc8ecc057115af97d19610ffacc2b4e99fae6737bb82f5d7fb13d2f2c186"
   }
  }
 },
 "nbformat": 4,
 "nbformat_minor": 2
}
