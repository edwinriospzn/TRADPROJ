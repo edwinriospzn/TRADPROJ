{
 "cells": [
  {
   "cell_type": "code",
   "execution_count": 1,
   "metadata": {},
   "outputs": [],
   "source": [
    "import yfinance as yf\n",
    "import pandas as pd\n",
    "import matplotlib.pyplot as plt\n",
    "import numpy as np"
   ]
  },
  {
   "cell_type": "code",
   "execution_count": 2,
   "metadata": {},
   "outputs": [],
   "source": [
    "Ini_date=\"2022-01-01\"\n",
    "End_date=\"2022-06-30\""
   ]
  },
  {
   "cell_type": "code",
   "execution_count": 3,
   "metadata": {},
   "outputs": [
    {
     "name": "stdout",
     "output_type": "stream",
     "text": [
      "[*********************100%***********************]  1 of 1 completed\n",
      "             Open       High        Low  Close  Adj Close  Volume\n",
      "Date                                                             \n",
      "2022-01-03  17.60  18.540001  16.559999  16.60      16.60       0\n",
      "2022-01-04  16.57  17.809999  16.340000  16.91      16.91       0\n",
      "2022-01-05  17.07  20.170000  16.580000  19.73      19.73       0\n",
      "[*********************100%***********************]  1 of 1 completed\n",
      "               Open     High     Low    Close  Adj Close   Volume\n",
      "Date                                                             \n",
      "2022-01-03  4771.00  4791.25  4747.5  4786.00    4786.00  1322362\n",
      "2022-01-04  4785.25  4808.25  4764.5  4784.25    4784.25  1392809\n",
      "2022-01-05  4783.50  4788.25  4689.5  4692.50    4692.50  1856376\n",
      "[*********************100%***********************]  1 of 1 completed\n",
      "                   Open         High          Low        Close    Adj Close  \\\n",
      "Date                                                                          \n",
      "2022-01-03  4778.140137  4796.640137  4758.169922  4796.560059  4796.560059   \n",
      "2022-01-04  4804.509766  4818.620117  4774.270020  4793.540039  4793.540039   \n",
      "2022-01-05  4787.990234  4797.700195  4699.439941  4700.580078  4700.580078   \n",
      "\n",
      "                Volume  \n",
      "Date                    \n",
      "2022-01-03  3831020000  \n",
      "2022-01-04  4683170000  \n",
      "2022-01-05  4887960000  \n"
     ]
    }
   ],
   "source": [
    "VIX_db = yf.download(\"^VIX\", start=Ini_date, end=End_date)\n",
    "print(VIX_db[:3])\n",
    "SP500Fut_db = yf.download(\"ES=F\", start=Ini_date, end=End_date)\n",
    "print(SP500Fut_db[:3])\n",
    "SP500_db = yf.download(\"^GSPC\", start=Ini_date, end=End_date)\n",
    "print(SP500_db[:3])"
   ]
  },
  {
   "cell_type": "code",
   "execution_count": 4,
   "metadata": {},
   "outputs": [],
   "source": [
    "VIX_db=pd.DataFrame(VIX_db['Close'])\n",
    "SP500Fut_db=pd.DataFrame(SP500Fut_db['Close'])\n",
    "SP500_db=pd.DataFrame(SP500_db['Close'])"
   ]
  },
  {
   "cell_type": "code",
   "execution_count": 5,
   "metadata": {},
   "outputs": [
    {
     "data": {
      "text/html": [
       "<div>\n",
       "<style scoped>\n",
       "    .dataframe tbody tr th:only-of-type {\n",
       "        vertical-align: middle;\n",
       "    }\n",
       "\n",
       "    .dataframe tbody tr th {\n",
       "        vertical-align: top;\n",
       "    }\n",
       "\n",
       "    .dataframe thead th {\n",
       "        text-align: right;\n",
       "    }\n",
       "</style>\n",
       "<table border=\"1\" class=\"dataframe\">\n",
       "  <thead>\n",
       "    <tr style=\"text-align: right;\">\n",
       "      <th></th>\n",
       "      <th>Close</th>\n",
       "    </tr>\n",
       "    <tr>\n",
       "      <th>Date</th>\n",
       "      <th></th>\n",
       "    </tr>\n",
       "  </thead>\n",
       "  <tbody>\n",
       "    <tr>\n",
       "      <th>2022-01-03</th>\n",
       "      <td>16.60</td>\n",
       "    </tr>\n",
       "    <tr>\n",
       "      <th>2022-01-04</th>\n",
       "      <td>16.91</td>\n",
       "    </tr>\n",
       "    <tr>\n",
       "      <th>2022-01-05</th>\n",
       "      <td>19.73</td>\n",
       "    </tr>\n",
       "  </tbody>\n",
       "</table>\n",
       "</div>"
      ],
      "text/plain": [
       "            Close\n",
       "Date             \n",
       "2022-01-03  16.60\n",
       "2022-01-04  16.91\n",
       "2022-01-05  19.73"
      ]
     },
     "metadata": {},
     "output_type": "display_data"
    },
    {
     "data": {
      "text/html": [
       "<div>\n",
       "<style scoped>\n",
       "    .dataframe tbody tr th:only-of-type {\n",
       "        vertical-align: middle;\n",
       "    }\n",
       "\n",
       "    .dataframe tbody tr th {\n",
       "        vertical-align: top;\n",
       "    }\n",
       "\n",
       "    .dataframe thead th {\n",
       "        text-align: right;\n",
       "    }\n",
       "</style>\n",
       "<table border=\"1\" class=\"dataframe\">\n",
       "  <thead>\n",
       "    <tr style=\"text-align: right;\">\n",
       "      <th></th>\n",
       "      <th>Close</th>\n",
       "    </tr>\n",
       "    <tr>\n",
       "      <th>Date</th>\n",
       "      <th></th>\n",
       "    </tr>\n",
       "  </thead>\n",
       "  <tbody>\n",
       "    <tr>\n",
       "      <th>2022-01-03</th>\n",
       "      <td>4786.00</td>\n",
       "    </tr>\n",
       "    <tr>\n",
       "      <th>2022-01-04</th>\n",
       "      <td>4784.25</td>\n",
       "    </tr>\n",
       "    <tr>\n",
       "      <th>2022-01-05</th>\n",
       "      <td>4692.50</td>\n",
       "    </tr>\n",
       "  </tbody>\n",
       "</table>\n",
       "</div>"
      ],
      "text/plain": [
       "              Close\n",
       "Date               \n",
       "2022-01-03  4786.00\n",
       "2022-01-04  4784.25\n",
       "2022-01-05  4692.50"
      ]
     },
     "metadata": {},
     "output_type": "display_data"
    },
    {
     "data": {
      "text/html": [
       "<div>\n",
       "<style scoped>\n",
       "    .dataframe tbody tr th:only-of-type {\n",
       "        vertical-align: middle;\n",
       "    }\n",
       "\n",
       "    .dataframe tbody tr th {\n",
       "        vertical-align: top;\n",
       "    }\n",
       "\n",
       "    .dataframe thead th {\n",
       "        text-align: right;\n",
       "    }\n",
       "</style>\n",
       "<table border=\"1\" class=\"dataframe\">\n",
       "  <thead>\n",
       "    <tr style=\"text-align: right;\">\n",
       "      <th></th>\n",
       "      <th>Close</th>\n",
       "    </tr>\n",
       "    <tr>\n",
       "      <th>Date</th>\n",
       "      <th></th>\n",
       "    </tr>\n",
       "  </thead>\n",
       "  <tbody>\n",
       "    <tr>\n",
       "      <th>2022-01-03</th>\n",
       "      <td>4796.560059</td>\n",
       "    </tr>\n",
       "    <tr>\n",
       "      <th>2022-01-04</th>\n",
       "      <td>4793.540039</td>\n",
       "    </tr>\n",
       "    <tr>\n",
       "      <th>2022-01-05</th>\n",
       "      <td>4700.580078</td>\n",
       "    </tr>\n",
       "  </tbody>\n",
       "</table>\n",
       "</div>"
      ],
      "text/plain": [
       "                  Close\n",
       "Date                   \n",
       "2022-01-03  4796.560059\n",
       "2022-01-04  4793.540039\n",
       "2022-01-05  4700.580078"
      ]
     },
     "metadata": {},
     "output_type": "display_data"
    }
   ],
   "source": [
    "display(VIX_db.head(3))\n",
    "display(SP500Fut_db.head(3))\n",
    "display(SP500_db.head(3))"
   ]
  },
  {
   "cell_type": "code",
   "execution_count": 6,
   "metadata": {},
   "outputs": [],
   "source": [
    "VIX_db.reset_index(inplace=True)\n",
    "VIX_db = (VIX_db.set_index('Date')\n",
    "      .reindex(pd.date_range(Ini_date, End_date, freq='D'))\n",
    "      .rename_axis(['Date'])\n",
    "      .fillna(method='ffill')\n",
    "      .dropna()\n",
    "      .reset_index())"
   ]
  },
  {
   "cell_type": "code",
   "execution_count": 7,
   "metadata": {},
   "outputs": [],
   "source": [
    "SP500Fut_db.reset_index(inplace=True)\n",
    "SP500Fut_db = (SP500Fut_db.set_index('Date')\n",
    "      .reindex(pd.date_range(Ini_date, End_date, freq='D'))\n",
    "      .rename_axis(['Date'])\n",
    "      .fillna(method='ffill')\n",
    "      .dropna()\n",
    "      .reset_index())"
   ]
  },
  {
   "cell_type": "code",
   "execution_count": 8,
   "metadata": {},
   "outputs": [],
   "source": [
    "SP500_db.reset_index(inplace=True)\n",
    "SP500_db = (SP500_db.set_index('Date')\n",
    "      .reindex(pd.date_range(Ini_date, End_date, freq='D'))\n",
    "      .rename_axis(['Date'])\n",
    "      .fillna(method='ffill')\n",
    "      .dropna()\n",
    "      .reset_index())"
   ]
  },
  {
   "cell_type": "code",
   "execution_count": 9,
   "metadata": {},
   "outputs": [
    {
     "data": {
      "image/png": "[encoded data removed]",
      "text/plain": [
       "<Figure size 720x252 with 2 Axes>"
      ]
     },
     "metadata": {
      "needs_background": "light"
     },
     "output_type": "display_data"
    }
   ],
   "source": [
    "fig, ax1 = plt.subplots(figsize=(10,3.5))\n",
    "ax2 = ax1.twinx()\n",
    "ax1.plot(SP500_db['Date'], SP500_db['Close'],label = \"SP500\", color='black')\n",
    "ax1.plot(SP500_db['Date'], SP500Fut_db['Close'], label = \"SP500Fut\",linestyle='dashdot', color='orange')\n",
    "ax2.plot(SP500_db['Date'], VIX_db['Close'],  label =\"VIX\",linestyle='dotted', color='red')\n",
    "ax1.legend(loc='lower left')\n",
    "ax2.legend(loc='upper left')\n",
    "plt.show()"
   ]
  },
  {
   "cell_type": "code",
   "execution_count": 10,
   "metadata": {},
   "outputs": [
    {
     "data": {
      "text/html": [
       "<div>\n",
       "<style scoped>\n",
       "    .dataframe tbody tr th:only-of-type {\n",
       "        vertical-align: middle;\n",
       "    }\n",
       "\n",
       "    .dataframe tbody tr th {\n",
       "        vertical-align: top;\n",
       "    }\n",
       "\n",
       "    .dataframe thead th {\n",
       "        text-align: right;\n",
       "    }\n",
       "</style>\n",
       "<table border=\"1\" class=\"dataframe\">\n",
       "  <thead>\n",
       "    <tr style=\"text-align: right;\">\n",
       "      <th></th>\n",
       "      <th>Date</th>\n",
       "      <th>Close_VIX</th>\n",
       "      <th>Close_SP</th>\n",
       "      <th>Close_SPF</th>\n",
       "    </tr>\n",
       "  </thead>\n",
       "  <tbody>\n",
       "    <tr>\n",
       "      <th>0</th>\n",
       "      <td>2022-01-03</td>\n",
       "      <td>16.60</td>\n",
       "      <td>4796.560059</td>\n",
       "      <td>4786.00</td>\n",
       "    </tr>\n",
       "    <tr>\n",
       "      <th>1</th>\n",
       "      <td>2022-01-04</td>\n",
       "      <td>16.91</td>\n",
       "      <td>4793.540039</td>\n",
       "      <td>4784.25</td>\n",
       "    </tr>\n",
       "    <tr>\n",
       "      <th>2</th>\n",
       "      <td>2022-01-05</td>\n",
       "      <td>19.73</td>\n",
       "      <td>4700.580078</td>\n",
       "      <td>4692.50</td>\n",
       "    </tr>\n",
       "  </tbody>\n",
       "</table>\n",
       "</div>"
      ],
      "text/plain": [
       "        Date  Close_VIX     Close_SP  Close_SPF\n",
       "0 2022-01-03      16.60  4796.560059    4786.00\n",
       "1 2022-01-04      16.91  4793.540039    4784.25\n",
       "2 2022-01-05      19.73  4700.580078    4692.50"
      ]
     },
     "execution_count": 10,
     "metadata": {},
     "output_type": "execute_result"
    }
   ],
   "source": [
    "MergedData= pd.concat(\n",
    "    objs=(iDF.set_index('Date') for iDF in (VIX_db, SP500_db, SP500Fut_db)),\n",
    "    axis=1, \n",
    "    join='inner'\n",
    ").reset_index()\n",
    "MergedData.columns=['Date','Close_VIX','Close_SP','Close_SPF']\n",
    "MergedData.head(3)"
   ]
  },
  {
   "cell_type": "code",
   "execution_count": 57,
   "metadata": {},
   "outputs": [],
   "source": [
    "MergedData.to_excel(\"RawData.xlsx\")"
   ]
  },
  {
   "cell_type": "code",
   "execution_count": 17,
   "metadata": {},
   "outputs": [
    {
     "data": {
      "text/plain": [
       "array([0, 1])"
      ]
     },
     "execution_count": 17,
     "metadata": {},
     "output_type": "execute_result"
    }
   ],
   "source": [
    "0+(np.sign([-5., 4.5]) == 1)"
   ]
  },
  {
   "cell_type": "code",
   "execution_count": 11,
   "metadata": {},
   "outputs": [
    {
     "name": "stdout",
     "output_type": "stream",
     "text": [
      "[0. 1.]\n",
      "[-1.  0.]\n"
     ]
    }
   ],
   "source": [
    "print(np.sign([-5., 4.5]) + (np.sign([-5., 4.5]) == -1))\n",
    "print(np.sign([-5., 4.5]) - (np.sign([-5., 4.5]) == 1))"
   ]
  },
  {
   "cell_type": "code",
   "execution_count": 39,
   "metadata": {},
   "outputs": [],
   "source": [
    "LimVixUp=30\n",
    "LimVixDw=20\n",
    "Stgy_DF=MergedData.copy()\n",
    "Stgy_DF['Ret']=Stgy_DF['Close_SP']/Stgy_DF['Close_SP'].shift(1)-1\n",
    "Stgy_DF['SigVixg30']=(0+(np.sign(Stgy_DF['Close_VIX']-LimVixUp)==1))\n",
    "Stgy_DF['SigVixs20']=(0+(np.sign(LimVixDw-Stgy_DF['Close_VIX'])==1))\n",
    "Stgy_DF['SigRetg+5']=np.nan\n",
    "Stgy_DF['SigRets-5']=np.nan\n",
    "Stgy_DF['InvestVal']=0\n",
    "Stgy_DF['InvestOp']=np.nan\n",
    "Stgy_DF['StrgRet']=0\n",
    "Stgy_DF['StrgDecitions']=np.nan"
   ]
  },
  {
   "cell_type": "code",
   "execution_count": 40,
   "metadata": {},
   "outputs": [
    {
     "ename": "ValueError",
     "evalue": "The truth value of a Series is ambiguous. Use a.empty, a.bool(), a.item(), a.any() or a.all().",
     "output_type": "error",
     "traceback": [
      "\u001b[1;31m---------------------------------------------------------------------------\u001b[0m",
      "\u001b[1;31mValueError\u001b[0m                                Traceback (most recent call last)",
      "\u001b[1;32md:\\cursos\\Maestria finanzas\\S3_Trading\\Proyecto\\Project_trading.ipynb Celda 15\u001b[0m in \u001b[0;36m<cell line: 3>\u001b[1;34m()\u001b[0m\n\u001b[0;32m     <a href='vscode-notebook-cell:/d%3A/cursos/Maestria%20finanzas/S3_Trading/Proyecto/Project_trading.ipynb#X15sZmlsZQ%3D%3D?line=15'>16</a>\u001b[0m \u001b[39mexcept\u001b[39;00m:\n\u001b[0;32m     <a href='vscode-notebook-cell:/d%3A/cursos/Maestria%20finanzas/S3_Trading/Proyecto/Project_trading.ipynb#X15sZmlsZQ%3D%3D?line=16'>17</a>\u001b[0m   Stgy_DF\u001b[39m.\u001b[39mloc[i,\u001b[39m'\u001b[39m\u001b[39mStrgRet\u001b[39m\u001b[39m'\u001b[39m]\u001b[39m=\u001b[39m\u001b[39m0\u001b[39m\n\u001b[1;32m---> <a href='vscode-notebook-cell:/d%3A/cursos/Maestria%20finanzas/S3_Trading/Proyecto/Project_trading.ipynb#X15sZmlsZQ%3D%3D?line=18'>19</a>\u001b[0m \u001b[39mif\u001b[39;00m Stgy_DF[\u001b[39m'\u001b[39m\u001b[39mSigVixg30\u001b[39m\u001b[39m'\u001b[39m]\u001b[39m==\u001b[39m\u001b[39m1\u001b[39m:\n\u001b[0;32m     <a href='vscode-notebook-cell:/d%3A/cursos/Maestria%20finanzas/S3_Trading/Proyecto/Project_trading.ipynb#X15sZmlsZQ%3D%3D?line=19'>20</a>\u001b[0m   \u001b[39m#buy\u001b[39;00m\n\u001b[0;32m     <a href='vscode-notebook-cell:/d%3A/cursos/Maestria%20finanzas/S3_Trading/Proyecto/Project_trading.ipynb#X15sZmlsZQ%3D%3D?line=20'>21</a>\u001b[0m   \u001b[39mif\u001b[39;00m DecCount\u001b[39m==\u001b[39m\u001b[39m0\u001b[39m:\n\u001b[0;32m     <a href='vscode-notebook-cell:/d%3A/cursos/Maestria%20finanzas/S3_Trading/Proyecto/Project_trading.ipynb#X15sZmlsZQ%3D%3D?line=21'>22</a>\u001b[0m     Stgy_DF\u001b[39m.\u001b[39mloc[i,\u001b[39m'\u001b[39m\u001b[39mStrgDecitions\u001b[39m\u001b[39m'\u001b[39m]\u001b[39m=\u001b[39m\u001b[39m'\u001b[39m\u001b[39mbuy\u001b[39m\u001b[39m'\u001b[39m\n",
      "File \u001b[1;32m~\\AppData\\Roaming\\Python\\Python39\\site-packages\\pandas\\core\\generic.py:1527\u001b[0m, in \u001b[0;36mNDFrame.__nonzero__\u001b[1;34m(self)\u001b[0m\n\u001b[0;32m   1525\u001b[0m \u001b[39m@final\u001b[39m\n\u001b[0;32m   1526\u001b[0m \u001b[39mdef\u001b[39;00m \u001b[39m__nonzero__\u001b[39m(\u001b[39mself\u001b[39m):\n\u001b[1;32m-> 1527\u001b[0m     \u001b[39mraise\u001b[39;00m \u001b[39mValueError\u001b[39;00m(\n\u001b[0;32m   1528\u001b[0m         \u001b[39mf\u001b[39m\u001b[39m\"\u001b[39m\u001b[39mThe truth value of a \u001b[39m\u001b[39m{\u001b[39;00m\u001b[39mtype\u001b[39m(\u001b[39mself\u001b[39m)\u001b[39m.\u001b[39m\u001b[39m__name__\u001b[39m\u001b[39m}\u001b[39;00m\u001b[39m is ambiguous. \u001b[39m\u001b[39m\"\u001b[39m\n\u001b[0;32m   1529\u001b[0m         \u001b[39m\"\u001b[39m\u001b[39mUse a.empty, a.bool(), a.item(), a.any() or a.all().\u001b[39m\u001b[39m\"\u001b[39m\n\u001b[0;32m   1530\u001b[0m     )\n",
      "\u001b[1;31mValueError\u001b[0m: The truth value of a Series is ambiguous. Use a.empty, a.bool(), a.item(), a.any() or a.all()."
     ]
    }
   ],
   "source": [
    "DecCount=0\n",
    "SwichBuySell=0\n",
    "for i in range(len(Stgy_DF)):\n",
    "  #Strategy return calculation\n",
    "  #last signal sell\n",
    "  if Stgy_DF.loc[i,'InvestOp']!=np.nan and Stgy_DF.loc[i-1,'InvestOp']=='sell':\n",
    "    Stgy_DF.loc[i,'StrgDecitions']='sell'\n",
    "    Stgy_DF.loc[i,'InvestVal']=Stgy_DF.loc[i-1,'InvestVal']\n",
    "  elif Stgy_DF.loc[i,'InvestOp']==np.nan and Stgy_DF.loc[i-1,'InvestOp']=='sell':\n",
    "    Stgy_DF.loc[i,'StrgDecitions']='sell'\n",
    "    Stgy_DF.loc[i,'InvestOp']=Stgy_DF.loc[i-1,'InvestOp']\n",
    "    Stgy_DF.loc[i,'InvestVal']=Stgy_DF.loc[i-1,'InvestVal']\n",
    "  #last signal buy\n",
    "  if Stgy_DF.loc[i,'InvestOp']!=np.nan and Stgy_DF.loc[i-1,'InvestOp']=='buy':\n",
    "    Stgy_DF.loc[i,'StrgDecitions']='buy'\n",
    "    Stgy_DF.loc[i,'InvestVal']=Stgy_DF.loc[i-1,'InvestVal']*(1+Stgy_DF.loc[i,'Ret'])\n",
    "  elif Stgy_DF.loc[i,'InvestOp']==np.nan and Stgy_DF.loc[i-1,'InvestOp']=='buy':\n",
    "    Stgy_DF.loc[i,'StrgDecitions']='buy'\n",
    "    Stgy_DF.loc[i,'InvestOp']=Stgy_DF.loc[i-1,'InvestOp']\n",
    "    Stgy_DF.loc[i,'InvestVal']=Stgy_DF.loc[i-1,'InvestVal']*(1+Stgy_DF.loc[i,'Ret'])\n",
    "\n",
    "  #Strategy returns calculation\n",
    "  try:\n",
    "    Stgy_DF.loc[i,'StrgRet']=Stgy_DF.loc[i,'InvestVal']/Stgy_DF.loc[i,'InvestOp']-1\n",
    "  except:\n",
    "    Stgy_DF.loc[i,'StrgRet']=0\n",
    "\n",
    "  if Stgy_DF['SigVixg30']==1:\n",
    "    #buy\n",
    "    if DecCount==0:\n",
    "      Stgy_DF.loc[i,'StrgDecitions']='buy'\n",
    "      Stgy_DF.loc[i,'InvestVal']=1\n",
    "      Stgy_DF.loc[i,'InvestOp']=Stgy_DF.loc[i,'InvestVal']\n",
    "      Stgy_DF.loc[i+1,'InvestOp']=Stgy_DF.loc[i,'InvestVal']\n",
    "      DecCount=+1\n",
    "    elif DecCount>=0 and Stgy_DF.loc[i-1,'StrgDecitions']=='sell':\n",
    "      Stgy_DF.loc[i,'StrgDecitions']='buy'\n",
    "      Stgy_DF.loc[i,'InvestOp']=Stgy_DF.loc[i-1,'InvestOp']\n",
    "      Stgy_DF.loc[i,'InvestVal']=Stgy_DF.loc[i,'InvestOp']\n",
    "      Stgy_DF.loc[i+1,'InvestOp']=Stgy_DF.loc[i,'InvestVal']\n",
    "      DecCount=+1\n",
    "  \n",
    "  #Stop loss - Take profit\n",
    "  if Stgy_DF.loc[i,'StrgRet']<=-0.05:\n",
    "    Stgy_DF.loc[i,'SigRets-5']=1\n",
    "  else:\n",
    "    Stgy_DF.loc[i,'SigRets-5']=0\n",
    "  if Stgy_DF['StrgRet']>=0.05:\n",
    "    Stgy_DF.loc[i,'SigRetg+5']=1\n",
    "  else:\n",
    "    Stgy_DF.loc[i,'SigRetg+5']=0\n",
    "  \n",
    "  if Stgy_DF.loc[i,'SigVixg20']==1 or Stgy_DF.loc[i,'SigRetg+5']==1 or Stgy_DF.loc[i,'SigRets-5']==1:\n",
    "    #sell\n",
    "    if DecCount>=0 and Stgy_DF.loc[i-1,'StrgDecitions']=='buy':\n",
    "      Stgy_DF.loc[i,'StrgDecitions']='sell'\n",
    "      Stgy_DF.loc[i,'InvestOp']=Stgy_DF.loc[i-1,'InvestOp']\n",
    "      Stgy_DF.loc[i,'InvestVal']=Stgy_DF.loc[i-1,'InvestVal']\n",
    "      Stgy_DF.loc[i+1,'InvestOp']=Stgy_DF.loc[i,'InvestVal']\n",
    "      \n",
    "\n",
    "\n"
   ]
  },
  {
   "cell_type": "code",
   "execution_count": 55,
   "metadata": {},
   "outputs": [],
   "source": [
    "## Strategy definition\n",
    "try:\n",
    "    del StgyDf\n",
    "    StgyDf=MergedData.copy()\n",
    "except:\n",
    "    StgyDf=MergedData.copy()"
   ]
  },
  {
   "cell_type": "code",
   "execution_count": null,
   "metadata": {},
   "outputs": [],
   "source": [
    "StgyDf['Signal']=np.sign(30-StgyDf['Close_VIX'])\n",
    "\n"
   ]
  },
  {
   "cell_type": "code",
   "execution_count": 38,
   "metadata": {},
   "outputs": [
    {
     "name": "stdout",
     "output_type": "stream",
     "text": [
      "1\n"
     ]
    }
   ],
   "source": [
    "try:\n",
    "    a__=0/0\n",
    "    print(a__)\n",
    "except:\n",
    "    a__=1\n",
    "    print(a__)\n"
   ]
  },
  {
   "cell_type": "code",
   "execution_count": null,
   "metadata": {},
   "outputs": [],
   "source": [
    "def Strategy_execution"
   ]
  },
  {
   "cell_type": "code",
   "execution_count": 29,
   "metadata": {},
   "outputs": [
    {
     "name": "stdout",
     "output_type": "stream",
     "text": [
      "0    19\n",
      "1     6\n",
      "2    26\n",
      "dtype: int64\n"
     ]
    }
   ],
   "source": [
    "\n",
    "\n",
    "data = [[-10, 18, 11], [13, -15, 8], [9, 20, -3]]\n",
    "\n",
    "df = pd.DataFrame(data)\n",
    "\n",
    "print(df.sum(axis=1))"
   ]
  },
  {
   "cell_type": "code",
   "execution_count": 26,
   "metadata": {},
   "outputs": [
    {
     "data": {
      "text/html": [
       "<div>\n",
       "<style scoped>\n",
       "    .dataframe tbody tr th:only-of-type {\n",
       "        vertical-align: middle;\n",
       "    }\n",
       "\n",
       "    .dataframe tbody tr th {\n",
       "        vertical-align: top;\n",
       "    }\n",
       "\n",
       "    .dataframe thead th {\n",
       "        text-align: right;\n",
       "    }\n",
       "</style>\n",
       "<table border=\"1\" class=\"dataframe\">\n",
       "  <thead>\n",
       "    <tr style=\"text-align: right;\">\n",
       "      <th></th>\n",
       "      <th>0</th>\n",
       "      <th>1</th>\n",
       "      <th>2</th>\n",
       "    </tr>\n",
       "  </thead>\n",
       "  <tbody>\n",
       "    <tr>\n",
       "      <th>0</th>\n",
       "      <td>10</td>\n",
       "      <td>18</td>\n",
       "      <td>11</td>\n",
       "    </tr>\n",
       "    <tr>\n",
       "      <th>1</th>\n",
       "      <td>13</td>\n",
       "      <td>15</td>\n",
       "      <td>8</td>\n",
       "    </tr>\n",
       "    <tr>\n",
       "      <th>2</th>\n",
       "      <td>9</td>\n",
       "      <td>20</td>\n",
       "      <td>3</td>\n",
       "    </tr>\n",
       "  </tbody>\n",
       "</table>\n",
       "</div>"
      ],
      "text/plain": [
       "    0   1   2\n",
       "0  10  18  11\n",
       "1  13  15   8\n",
       "2   9  20   3"
      ]
     },
     "execution_count": 26,
     "metadata": {},
     "output_type": "execute_result"
    }
   ],
   "source": [
    "df"
   ]
  },
  {
   "cell_type": "code",
   "execution_count": 31,
   "metadata": {},
   "outputs": [],
   "source": [
    "del data"
   ]
  },
  {
   "cell_type": "code",
   "execution_count": null,
   "metadata": {},
   "outputs": [],
   "source": []
  }
 ],
 "metadata": {
  "kernelspec": {
   "display_name": "Python 3.9.12 ('base')",
   "language": "python",
   "name": "python3"
  },
  "language_info": {
   "codemirror_mode": {
    "name": "ipython",
    "version": 3
   },
   "file_extension": ".py",
   "mimetype": "text/x-python",
   "name": "python",
   "nbconvert_exporter": "python",
   "pygments_lexer": "ipython3",
   "version": "3.9.12"
  },
  "orig_nbformat": 4,
  "vscode": {
   "interpreter": {
    "hash": "ad2bdc8ecc057115af97d19610ffacc2b4e99fae6737bb82f5d7fb13d2f2c186"
   }
  }
 },
 "nbformat": 4,
 "nbformat_minor": 2
}
